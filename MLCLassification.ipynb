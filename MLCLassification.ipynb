{
  "nbformat": 4,
  "nbformat_minor": 0,
  "metadata": {
    "colab": {
      "provenance": [],
      "toc_visible": true,
      "authorship_tag": "ABX9TyOQZCzJ0G4vSR/cwZc0Ga03",
      "include_colab_link": true
    },
    "kernelspec": {
      "name": "python3",
      "display_name": "Python 3"
    },
    "language_info": {
      "name": "python"
    }
  },
  "cells": [
    {
      "cell_type": "markdown",
      "metadata": {
        "id": "view-in-github",
        "colab_type": "text"
      },
      "source": [
        "<a href=\"https://colab.research.google.com/github/kunalnischal7/ML-Projects/blob/main/MLCLassification.ipynb\" target=\"_parent\"><img src=\"https://colab.research.google.com/assets/colab-badge.svg\" alt=\"Open In Colab\"/></a>"
      ]
    },
    {
      "cell_type": "markdown",
      "source": [
        "# Data Preprocessing"
      ],
      "metadata": {
        "id": "gMAjsx3dtNWH"
      }
    },
    {
      "cell_type": "markdown",
      "source": [
        "## Importing Libraries"
      ],
      "metadata": {
        "id": "O2Nh06Yj1oLl"
      }
    },
    {
      "cell_type": "code",
      "execution_count": 12,
      "metadata": {
        "id": "E7zAUmTq01MQ"
      },
      "outputs": [],
      "source": [
        "import pandas as pd"
      ]
    },
    {
      "cell_type": "markdown",
      "source": [
        "## Import Dataset from Google Drive"
      ],
      "metadata": {
        "id": "XXqaV8k_IH-P"
      }
    },
    {
      "cell_type": "code",
      "source": [
        "from google.colab import drive\n",
        "drive.mount('/content/drive')"
      ],
      "metadata": {
        "colab": {
          "base_uri": "https://localhost:8080/"
        },
        "id": "yfX6JNrh1nZl",
        "outputId": "ef39af8b-1ed7-47f2-baa2-28763795bb1c"
      },
      "execution_count": 13,
      "outputs": [
        {
          "output_type": "stream",
          "name": "stdout",
          "text": [
            "Drive already mounted at /content/drive; to attempt to forcibly remount, call drive.mount(\"/content/drive\", force_remount=True).\n"
          ]
        }
      ]
    },
    {
      "cell_type": "code",
      "source": [
        "%cd \"/content/drive/My Drive/\""
      ],
      "metadata": {
        "colab": {
          "base_uri": "https://localhost:8080/"
        },
        "id": "IFMfKR3l2gnB",
        "outputId": "2e39b3de-5e0f-450b-f9fa-95c4a0bebf7e"
      },
      "execution_count": 14,
      "outputs": [
        {
          "output_type": "stream",
          "name": "stdout",
          "text": [
            "/content/drive/My Drive\n"
          ]
        }
      ]
    },
    {
      "cell_type": "markdown",
      "source": [
        "## Load Data"
      ],
      "metadata": {
        "id": "1Rt6uKKyIYTd"
      }
    },
    {
      "cell_type": "code",
      "source": [
        "file_path = 'train.xlsx'"
      ],
      "metadata": {
        "id": "seHlRWHp6If6"
      },
      "execution_count": 17,
      "outputs": []
    },
    {
      "cell_type": "code",
      "source": [
        "df = pd.read_excel(file_path)"
      ],
      "metadata": {
        "id": "1Qs6_xi16TLJ"
      },
      "execution_count": 18,
      "outputs": []
    },
    {
      "cell_type": "markdown",
      "source": [
        "# Data Preparation"
      ],
      "metadata": {
        "id": "_k8kfMbAtUe2"
      }
    },
    {
      "cell_type": "markdown",
      "source": [
        "## Data Shuffling"
      ],
      "metadata": {
        "id": "yWgdmOpotYPr"
      }
    },
    {
      "cell_type": "code",
      "source": [
        "from sklearn.utils import shuffle\n",
        "df = shuffle(df, random_state = 44)"
      ],
      "metadata": {
        "id": "7EkpLyPA6X2A"
      },
      "execution_count": 19,
      "outputs": []
    },
    {
      "cell_type": "code",
      "source": [
        "df.isnull().sum()"
      ],
      "metadata": {
        "colab": {
          "base_uri": "https://localhost:8080/"
        },
        "id": "E4VGNKywtb7z",
        "outputId": "d4de71c4-8322-4594-a548-d3bb452bd083"
      },
      "execution_count": 20,
      "outputs": [
        {
          "output_type": "execute_result",
          "data": {
            "text/plain": [
              "T1        0\n",
              "T2        0\n",
              "T3        0\n",
              "T4        0\n",
              "T5        0\n",
              "T6        0\n",
              "T7        0\n",
              "T8        0\n",
              "T9        0\n",
              "T10       0\n",
              "T11       0\n",
              "T12       0\n",
              "T13       0\n",
              "T14       0\n",
              "T15       0\n",
              "T16       0\n",
              "T17       0\n",
              "T18       0\n",
              "target    0\n",
              "dtype: int64"
            ]
          },
          "metadata": {},
          "execution_count": 20
        }
      ]
    },
    {
      "cell_type": "markdown",
      "source": [
        "## Checking for Outliers"
      ],
      "metadata": {
        "id": "FFhAPgjbtl6j"
      }
    },
    {
      "cell_type": "code",
      "source": [
        "numerical_cols = df.select_dtypes(include=['int64', 'float64']).columns"
      ],
      "metadata": {
        "id": "2evVutKpuUdk"
      },
      "execution_count": 34,
      "outputs": []
    },
    {
      "cell_type": "code",
      "source": [
        "from scipy import stats\n",
        "\n",
        "z_scores = stats.zscore(df[numerical_cols])"
      ],
      "metadata": {
        "id": "tiWO7_p7te0u"
      },
      "execution_count": 33,
      "outputs": []
    },
    {
      "cell_type": "code",
      "source": [
        "df_z_scores = pd.DataFrame(z_scores, columns=numerical_cols)"
      ],
      "metadata": {
        "id": "hywUsEDOto-j"
      },
      "execution_count": 35,
      "outputs": []
    },
    {
      "cell_type": "code",
      "source": [
        "outliers = df_z_scores[(df_z_scores > threshold).any(axis=1)]"
      ],
      "metadata": {
        "id": "YFZNyramur2k"
      },
      "execution_count": 36,
      "outputs": []
    },
    {
      "cell_type": "code",
      "source": [
        "num_outliers = outliers.sum()"
      ],
      "metadata": {
        "id": "KW7F4cJZuvnL"
      },
      "execution_count": 37,
      "outputs": []
    },
    {
      "cell_type": "code",
      "source": [
        "print(\"Columns with outliers and number of outliers:\")\n",
        "print(num_outliers[num_outliers > 0])"
      ],
      "metadata": {
        "colab": {
          "base_uri": "https://localhost:8080/"
        },
        "id": "-8mRwMcJuyb5",
        "outputId": "71b4d43e-a554-4ce1-b6b2-f4e455bcf0e8"
      },
      "execution_count": 38,
      "outputs": [
        {
          "output_type": "stream",
          "name": "stdout",
          "text": [
            "Columns with outliers and number of outliers:\n",
            "T1      96.040082\n",
            "T2     116.886613\n",
            "T3     139.666204\n",
            "T4       3.573452\n",
            "T5     705.305743\n",
            "T6     228.713384\n",
            "T7      37.191751\n",
            "T10    219.188652\n",
            "T11    184.849486\n",
            "T12    234.293476\n",
            "T13    195.811849\n",
            "T14     46.753109\n",
            "T15    112.254727\n",
            "T16     61.633584\n",
            "dtype: float64\n"
          ]
        }
      ]
    },
    {
      "cell_type": "code",
      "source": [
        "threshold = 3"
      ],
      "metadata": {
        "id": "6N19sz5qu06J"
      },
      "execution_count": 39,
      "outputs": []
    },
    {
      "cell_type": "code",
      "source": [
        "df_cleaned = df.drop(outliers.index)"
      ],
      "metadata": {
        "id": "hZAmGfvMxaKK"
      },
      "execution_count": 40,
      "outputs": []
    },
    {
      "cell_type": "markdown",
      "source": [
        "## Removing the outliers"
      ],
      "metadata": {
        "id": "MWBs-lfGIfmd"
      }
    },
    {
      "cell_type": "code",
      "source": [
        "df_cleaned.to_excel(\"cleaned_data.xlsx\", index=False)"
      ],
      "metadata": {
        "id": "NhLCJJ9Pxis5"
      },
      "execution_count": 41,
      "outputs": []
    },
    {
      "cell_type": "markdown",
      "source": [
        "# Model Building"
      ],
      "metadata": {
        "id": "b9dCot5KyxFP"
      }
    },
    {
      "cell_type": "code",
      "source": [
        "from sklearn.ensemble import RandomForestClassifier\n",
        "from sklearn.metrics import accuracy_score, classification_report\n",
        "from sklearn.model_selection import train_test_split"
      ],
      "metadata": {
        "id": "LGubSwhBxl2j"
      },
      "execution_count": 42,
      "outputs": []
    },
    {
      "cell_type": "code",
      "source": [
        "rf_classifier = RandomForestClassifier(n_estimators=100, random_state=42)"
      ],
      "metadata": {
        "id": "k54vcfnBy4gi"
      },
      "execution_count": 43,
      "outputs": []
    },
    {
      "cell_type": "code",
      "source": [
        "X = df.drop(columns=['target'])\n",
        "y = df['target']"
      ],
      "metadata": {
        "id": "oHA-hdj5zh4W"
      },
      "execution_count": 47,
      "outputs": []
    },
    {
      "cell_type": "markdown",
      "source": [
        "## Train Test Split"
      ],
      "metadata": {
        "id": "LJtsAe_mHtPC"
      }
    },
    {
      "cell_type": "code",
      "source": [
        "X_train, X_val, y_train, y_val = train_test_split(X, y, test_size=0.2, random_state=42)"
      ],
      "metadata": {
        "id": "w9kC-Tsey9Fg"
      },
      "execution_count": 48,
      "outputs": []
    },
    {
      "cell_type": "markdown",
      "source": [
        "## Training the model"
      ],
      "metadata": {
        "id": "fMpuk07ZH0Ki"
      }
    },
    {
      "cell_type": "code",
      "source": [
        "rf_classifier = RandomForestClassifier(n_estimators=100, random_state=42)\n",
        "rf_classifier.fit(X_train, y_train)"
      ],
      "metadata": {
        "colab": {
          "base_uri": "https://localhost:8080/",
          "height": 74
        },
        "id": "NUHf-R0Oy_kE",
        "outputId": "807ae4e0-1859-4b90-8609-1d6f6b8891e2"
      },
      "execution_count": 49,
      "outputs": [
        {
          "output_type": "execute_result",
          "data": {
            "text/plain": [
              "RandomForestClassifier(random_state=42)"
            ],
            "text/html": [
              "<style>#sk-container-id-1 {color: black;background-color: white;}#sk-container-id-1 pre{padding: 0;}#sk-container-id-1 div.sk-toggleable {background-color: white;}#sk-container-id-1 label.sk-toggleable__label {cursor: pointer;display: block;width: 100%;margin-bottom: 0;padding: 0.3em;box-sizing: border-box;text-align: center;}#sk-container-id-1 label.sk-toggleable__label-arrow:before {content: \"▸\";float: left;margin-right: 0.25em;color: #696969;}#sk-container-id-1 label.sk-toggleable__label-arrow:hover:before {color: black;}#sk-container-id-1 div.sk-estimator:hover label.sk-toggleable__label-arrow:before {color: black;}#sk-container-id-1 div.sk-toggleable__content {max-height: 0;max-width: 0;overflow: hidden;text-align: left;background-color: #f0f8ff;}#sk-container-id-1 div.sk-toggleable__content pre {margin: 0.2em;color: black;border-radius: 0.25em;background-color: #f0f8ff;}#sk-container-id-1 input.sk-toggleable__control:checked~div.sk-toggleable__content {max-height: 200px;max-width: 100%;overflow: auto;}#sk-container-id-1 input.sk-toggleable__control:checked~label.sk-toggleable__label-arrow:before {content: \"▾\";}#sk-container-id-1 div.sk-estimator input.sk-toggleable__control:checked~label.sk-toggleable__label {background-color: #d4ebff;}#sk-container-id-1 div.sk-label input.sk-toggleable__control:checked~label.sk-toggleable__label {background-color: #d4ebff;}#sk-container-id-1 input.sk-hidden--visually {border: 0;clip: rect(1px 1px 1px 1px);clip: rect(1px, 1px, 1px, 1px);height: 1px;margin: -1px;overflow: hidden;padding: 0;position: absolute;width: 1px;}#sk-container-id-1 div.sk-estimator {font-family: monospace;background-color: #f0f8ff;border: 1px dotted black;border-radius: 0.25em;box-sizing: border-box;margin-bottom: 0.5em;}#sk-container-id-1 div.sk-estimator:hover {background-color: #d4ebff;}#sk-container-id-1 div.sk-parallel-item::after {content: \"\";width: 100%;border-bottom: 1px solid gray;flex-grow: 1;}#sk-container-id-1 div.sk-label:hover label.sk-toggleable__label {background-color: #d4ebff;}#sk-container-id-1 div.sk-serial::before {content: \"\";position: absolute;border-left: 1px solid gray;box-sizing: border-box;top: 0;bottom: 0;left: 50%;z-index: 0;}#sk-container-id-1 div.sk-serial {display: flex;flex-direction: column;align-items: center;background-color: white;padding-right: 0.2em;padding-left: 0.2em;position: relative;}#sk-container-id-1 div.sk-item {position: relative;z-index: 1;}#sk-container-id-1 div.sk-parallel {display: flex;align-items: stretch;justify-content: center;background-color: white;position: relative;}#sk-container-id-1 div.sk-item::before, #sk-container-id-1 div.sk-parallel-item::before {content: \"\";position: absolute;border-left: 1px solid gray;box-sizing: border-box;top: 0;bottom: 0;left: 50%;z-index: -1;}#sk-container-id-1 div.sk-parallel-item {display: flex;flex-direction: column;z-index: 1;position: relative;background-color: white;}#sk-container-id-1 div.sk-parallel-item:first-child::after {align-self: flex-end;width: 50%;}#sk-container-id-1 div.sk-parallel-item:last-child::after {align-self: flex-start;width: 50%;}#sk-container-id-1 div.sk-parallel-item:only-child::after {width: 0;}#sk-container-id-1 div.sk-dashed-wrapped {border: 1px dashed gray;margin: 0 0.4em 0.5em 0.4em;box-sizing: border-box;padding-bottom: 0.4em;background-color: white;}#sk-container-id-1 div.sk-label label {font-family: monospace;font-weight: bold;display: inline-block;line-height: 1.2em;}#sk-container-id-1 div.sk-label-container {text-align: center;}#sk-container-id-1 div.sk-container {/* jupyter's `normalize.less` sets `[hidden] { display: none; }` but bootstrap.min.css set `[hidden] { display: none !important; }` so we also need the `!important` here to be able to override the default hidden behavior on the sphinx rendered scikit-learn.org. See: https://github.com/scikit-learn/scikit-learn/issues/21755 */display: inline-block !important;position: relative;}#sk-container-id-1 div.sk-text-repr-fallback {display: none;}</style><div id=\"sk-container-id-1\" class=\"sk-top-container\"><div class=\"sk-text-repr-fallback\"><pre>RandomForestClassifier(random_state=42)</pre><b>In a Jupyter environment, please rerun this cell to show the HTML representation or trust the notebook. <br />On GitHub, the HTML representation is unable to render, please try loading this page with nbviewer.org.</b></div><div class=\"sk-container\" hidden><div class=\"sk-item\"><div class=\"sk-estimator sk-toggleable\"><input class=\"sk-toggleable__control sk-hidden--visually\" id=\"sk-estimator-id-1\" type=\"checkbox\" checked><label for=\"sk-estimator-id-1\" class=\"sk-toggleable__label sk-toggleable__label-arrow\">RandomForestClassifier</label><div class=\"sk-toggleable__content\"><pre>RandomForestClassifier(random_state=42)</pre></div></div></div></div></div>"
            ]
          },
          "metadata": {},
          "execution_count": 49
        }
      ]
    },
    {
      "cell_type": "code",
      "source": [
        "y_val_pred = rf_classifier.predict(X_val)"
      ],
      "metadata": {
        "id": "gj3nzjKYHHXP"
      },
      "execution_count": 50,
      "outputs": []
    },
    {
      "cell_type": "markdown",
      "source": [
        "# Evaluation"
      ],
      "metadata": {
        "id": "UUNTO5nrH8uL"
      }
    },
    {
      "cell_type": "code",
      "source": [
        "from sklearn.metrics import confusion_matrix, accuracy_score, precision_score, recall_score, f1_score, roc_auc_score, classification_report"
      ],
      "metadata": {
        "id": "ejaYkuR_JJ3-"
      },
      "execution_count": 53,
      "outputs": []
    },
    {
      "cell_type": "code",
      "source": [
        "cm = confusion_matrix(y_val, y_val_pred)\n",
        "print(\"Confusion Matrix:\")\n",
        "print(cm)"
      ],
      "metadata": {
        "colab": {
          "base_uri": "https://localhost:8080/"
        },
        "id": "0BU06MW3JMkY",
        "outputId": "87e393fb-8ff3-406d-820e-166f87575562"
      },
      "execution_count": 54,
      "outputs": [
        {
          "output_type": "stream",
          "name": "stdout",
          "text": [
            "Confusion Matrix:\n",
            "[[45  0  0 ...  0  0  0]\n",
            " [ 0 44  0 ...  0  0  0]\n",
            " [ 0  0 43 ...  0  0  0]\n",
            " ...\n",
            " [ 0  0  0 ... 39  0  0]\n",
            " [ 0  0  0 ...  0 36  0]\n",
            " [ 0  0  0 ...  0  0 53]]\n"
          ]
        }
      ]
    },
    {
      "cell_type": "code",
      "source": [
        "accuracy = accuracy_score(y_val, y_val_pred)\n",
        "print(\"Validation Accuracy:\", accuracy)"
      ],
      "metadata": {
        "colab": {
          "base_uri": "https://localhost:8080/"
        },
        "id": "zrtWDeuHHNOD",
        "outputId": "dbbeb2fc-f63e-4535-a0ed-7db42371e32f"
      },
      "execution_count": 51,
      "outputs": [
        {
          "output_type": "stream",
          "name": "stdout",
          "text": [
            "Validation Accuracy: 0.9865324445653653\n"
          ]
        }
      ]
    },
    {
      "cell_type": "code",
      "source": [
        "print(classification_report(y_val, y_val_pred))"
      ],
      "metadata": {
        "colab": {
          "base_uri": "https://localhost:8080/"
        },
        "id": "r1f_tY8jHQ0C",
        "outputId": "6914b986-2358-4813-defa-e6dc89a031c4"
      },
      "execution_count": 52,
      "outputs": [
        {
          "output_type": "stream",
          "name": "stdout",
          "text": [
            "              precision    recall  f1-score   support\n",
            "\n",
            "          A1       0.98      0.92      0.95        49\n",
            "         A10       0.88      0.98      0.93        45\n",
            "         A11       1.00      1.00      1.00        43\n",
            "         A12       1.00      1.00      1.00        39\n",
            "         A13       1.00      1.00      1.00        42\n",
            "         A14       1.00      0.99      0.99        89\n",
            "         A15       0.96      1.00      0.98        70\n",
            "         A16       1.00      1.00      1.00        56\n",
            "         A17       0.93      0.98      0.95        42\n",
            "         A18       1.00      1.00      1.00        43\n",
            "         A19       1.00      1.00      1.00        40\n",
            "          A2       1.00      1.00      1.00        38\n",
            "         A20       1.00      1.00      1.00        46\n",
            "         A21       0.99      1.00      0.99        72\n",
            "         A22       1.00      1.00      1.00        43\n",
            "         A23       1.00      1.00      1.00        43\n",
            "         A24       1.00      1.00      1.00        33\n",
            "         A25       0.99      0.97      0.98        80\n",
            "         A26       1.00      1.00      1.00        47\n",
            "         A27       1.00      1.00      1.00        41\n",
            "         A28       1.00      1.00      1.00        44\n",
            "         A29       0.97      0.96      0.96        89\n",
            "          A3       0.99      0.91      0.95        77\n",
            "         A30       1.00      1.00      1.00        40\n",
            "         A31       0.82      0.89      0.85        36\n",
            "         A32       1.00      1.00      1.00        37\n",
            "         A33       0.95      0.99      0.97       137\n",
            "         A34       0.99      1.00      0.99        80\n",
            "         A35       1.00      1.00      1.00        47\n",
            "         A36       1.00      1.00      1.00        40\n",
            "         A37       1.00      0.98      0.99        99\n",
            "         A38       1.00      1.00      1.00        41\n",
            "         A39       0.95      0.89      0.92       132\n",
            "          A4       0.99      1.00      0.99        67\n",
            "         A40       1.00      1.00      1.00        51\n",
            "         A41       1.00      0.98      0.99        43\n",
            "         A42       1.00      1.00      1.00        48\n",
            "         A43       1.00      1.00      1.00        46\n",
            "         A44       1.00      1.00      1.00        50\n",
            "         A45       1.00      1.00      1.00        51\n",
            "         A46       1.00      1.00      1.00        42\n",
            "         A47       1.00      1.00      1.00        36\n",
            "         A48       1.00      1.00      1.00        44\n",
            "         A49       1.00      1.00      1.00        44\n",
            "          A5       0.90      0.93      0.91        46\n",
            "         A50       1.00      1.00      1.00        41\n",
            "         A51       1.00      1.00      1.00        45\n",
            "         A52       1.00      1.00      1.00        48\n",
            "         A53       1.00      1.00      1.00        32\n",
            "         A54       1.00      1.00      1.00        43\n",
            "         A55       1.00      1.00      1.00        39\n",
            "         A56       1.00      1.00      1.00        43\n",
            "         A57       1.00      0.97      0.99        37\n",
            "         A58       1.00      1.00      1.00        44\n",
            "         A59       1.00      1.00      1.00        48\n",
            "          A6       1.00      1.00      1.00        39\n",
            "         A60       0.98      1.00      0.99        47\n",
            "         A61       0.62      0.64      0.63        47\n",
            "         A62       1.00      1.00      1.00        47\n",
            "         A63       1.00      1.00      1.00        34\n",
            "         A64       1.00      1.00      1.00        36\n",
            "         A65       1.00      0.98      0.99        44\n",
            "         A66       1.00      1.00      1.00        37\n",
            "         A67       1.00      1.00      1.00        49\n",
            "         A68       1.00      1.00      1.00        41\n",
            "         A69       1.00      1.00      1.00        35\n",
            "          A7       1.00      1.00      1.00        44\n",
            "         A70       1.00      1.00      1.00        41\n",
            "         A71       1.00      1.00      1.00        32\n",
            "         A72       1.00      1.00      1.00        42\n",
            "         A73       0.95      1.00      0.97        37\n",
            "         A74       1.00      0.97      0.99        38\n",
            "         A75       1.00      1.00      1.00        49\n",
            "         A76       1.00      1.00      1.00        47\n",
            "         A77       1.00      0.98      0.99        41\n",
            "         A78       0.98      1.00      0.99        47\n",
            "         A79       1.00      1.00      1.00        42\n",
            "          A8       1.00      1.00      1.00        31\n",
            "         A80       0.98      1.00      0.99        41\n",
            "          A9       0.93      0.93      0.93        30\n",
            "          B1       1.00      1.00      1.00        44\n",
            "         B10       1.00      1.00      1.00        37\n",
            "         B11       1.00      1.00      1.00        36\n",
            "         B12       1.00      1.00      1.00        30\n",
            "         B13       0.97      1.00      0.98        57\n",
            "         B14       1.00      1.00      1.00        45\n",
            "         B15       1.00      1.00      1.00        33\n",
            "         B16       1.00      1.00      1.00        42\n",
            "         B17       0.61      0.57      0.59        47\n",
            "         B18       1.00      1.00      1.00        44\n",
            "         B19       1.00      1.00      1.00        44\n",
            "          B2       1.00      1.00      1.00        44\n",
            "         B20       1.00      1.00      1.00        36\n",
            "         B21       1.00      1.00      1.00        50\n",
            "         B22       1.00      1.00      1.00        40\n",
            "         B23       1.00      1.00      1.00        50\n",
            "         B24       1.00      1.00      1.00        40\n",
            "         B25       1.00      1.00      1.00        40\n",
            "         B26       1.00      1.00      1.00        48\n",
            "         B27       1.00      1.00      1.00        51\n",
            "         B28       1.00      1.00      1.00        42\n",
            "         B29       1.00      0.97      0.99        38\n",
            "          B3       1.00      1.00      1.00        39\n",
            "         B30       1.00      1.00      1.00        48\n",
            "         B31       1.00      1.00      1.00        32\n",
            "         B32       1.00      1.00      1.00        48\n",
            "         B33       1.00      1.00      1.00        43\n",
            "         B34       1.00      1.00      1.00        39\n",
            "         B35       1.00      1.00      1.00        41\n",
            "         B36       1.00      1.00      1.00        39\n",
            "         B37       1.00      1.00      1.00        41\n",
            "         B38       0.95      1.00      0.97        37\n",
            "         B39       1.00      1.00      1.00        47\n",
            "          B4       1.00      1.00      1.00        43\n",
            "         B40       1.00      1.00      1.00        35\n",
            "         B41       1.00      1.00      1.00        43\n",
            "         B42       1.00      1.00      1.00        39\n",
            "         B43       1.00      1.00      1.00        52\n",
            "         B44       1.00      1.00      1.00        50\n",
            "         B45       1.00      1.00      1.00        96\n",
            "         B46       1.00      1.00      1.00        39\n",
            "         B47       1.00      1.00      1.00        43\n",
            "         B48       1.00      1.00      1.00        58\n",
            "         B49       1.00      1.00      1.00        45\n",
            "          B5       1.00      1.00      1.00        41\n",
            "         B50       1.00      1.00      1.00        42\n",
            "         B51       1.00      1.00      1.00        44\n",
            "         B52       0.98      1.00      0.99        43\n",
            "         B53       0.97      0.93      0.95        41\n",
            "         B54       1.00      1.00      1.00        33\n",
            "         B55       1.00      1.00      1.00        49\n",
            "         B56       1.00      1.00      1.00        42\n",
            "         B57       1.00      0.97      0.99        39\n",
            "         B58       1.00      1.00      1.00        84\n",
            "         B59       1.00      1.00      1.00        42\n",
            "          B6       1.00      1.00      1.00        52\n",
            "         B60       1.00      1.00      1.00        38\n",
            "         B61       0.97      0.97      0.97        35\n",
            "         B62       1.00      1.00      1.00        34\n",
            "         B63       1.00      1.00      1.00        51\n",
            "         B64       1.00      1.00      1.00        35\n",
            "         B65       0.96      0.98      0.97        47\n",
            "         B66       1.00      1.00      1.00        39\n",
            "         B67       1.00      1.00      1.00        45\n",
            "         B68       1.00      1.00      1.00        37\n",
            "         B69       1.00      0.91      0.95        33\n",
            "          B7       1.00      1.00      1.00        32\n",
            "         B70       1.00      1.00      1.00        40\n",
            "         B71       1.00      1.00      1.00        49\n",
            "         B72       1.00      1.00      1.00        41\n",
            "         B73       0.97      1.00      0.98        29\n",
            "         B74       0.97      1.00      0.98        31\n",
            "         B75       1.00      1.00      1.00        47\n",
            "         B76       1.00      1.00      1.00        48\n",
            "         B77       1.00      1.00      1.00        32\n",
            "         B78       1.00      1.00      1.00        42\n",
            "         B79       1.00      1.00      1.00        45\n",
            "          B8       1.00      1.00      1.00        39\n",
            "         B80       1.00      1.00      1.00        36\n",
            "          B9       1.00      1.00      1.00        53\n",
            "\n",
            "    accuracy                           0.99      7351\n",
            "   macro avg       0.99      0.99      0.99      7351\n",
            "weighted avg       0.99      0.99      0.99      7351\n",
            "\n"
          ]
        }
      ]
    },
    {
      "cell_type": "code",
      "source": [],
      "metadata": {
        "id": "HZXrJlEpHUMY"
      },
      "execution_count": null,
      "outputs": []
    }
  ]
}